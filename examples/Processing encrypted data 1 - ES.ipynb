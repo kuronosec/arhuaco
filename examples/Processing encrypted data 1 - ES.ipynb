{
 "cells": [
  {
   "cell_type": "markdown",
   "metadata": {},
   "source": [
    "# Procesando informaci- un ejemplo introductorio\n",
    "\n",
    "En mi blog [1] hablé de la motivación detrás de utilizar datos cifrados de los usuarios para el entrenamiento y/o predicción de un modelo de machine learning, y así respetar su privacidad.\n",
    "\n",
    "Comenzando con este tutorial, voy a mostrar ejemplos sobre cómo usar mi librería Arhuaco en conjunto con PySyft de OpenMined para entrenar modelos basados en datos que no son visibles, y como ejecutar predicciones en esos mismos modelos. Antes recomiendo dar un vistazo a los tutoriales en PySyft [2] especialmente la introducción a procesamiento con datos cifrados [3], con una explicación simplificada de las matemáticas involucradas.\n",
    "Vale aclarar que para seguir este tutorial se recomienda usar alguna distribución de Linux (Yo usé Debian Buster).\n",
    "\n",
    "Antes que nada, debemos instalar las dependencias de Python (asegurate de usar la versión 3 del lenguaje), que usaremos durante los tutoriales. Para descargar el código fuente de las librerías hacemos lo siguiente:\n",
    "\n",
    "```Bash\n",
    "git clone https://gitlab.com/kuronosec/arhuaco\n",
    "git clone https://github.com/OpenMined/PySyft\n",
    "cd PySyft\n",
    "make notebook\n",
    "```\n",
    "\n",
    "Este último comando instala PySyft en un ambiente limpio de Python (3) que se puede encontrar en PySyft/venv. Aprovecharemos ese mismo ambiente para correr los notebooks, así:\n",
    "\n",
    "```Bash\n",
    "source PySyft/venv/bin/activate \n",
    "```\n",
    "\n",
    "Finalmente, para ejecutar el actual notebook:\n",
    "\n",
    "```Bash\n",
    "cd arhuaco\n",
    "git checkout devel\n",
    "python setup.py install\n",
    "jupyter notebook\n",
    "```\n",
    "Luego navegar a \"examples/Processing encrypted data 1 - ES.ipynb\""
   ]
  },
  {
   "cell_type": "markdown",
   "metadata": {},
   "source": [
    "# Multiplicación de vectores\n",
    "\n",
    "En este tutorial empezaremos con un ejemplo muy sencillo del uso de PySyft, que sirve para demostrar su potencial. PySyft puede usar varias opciones de frameworks de machine learning, en este caso usaremos PyTorch [4]."
   ]
  },
  {
   "cell_type": "code",
   "execution_count": null,
   "metadata": {},
   "outputs": [],
   "source": [
    "# Primero vamos a incluir dependencias y ver si todo\n",
    "# funciona correctamente\n",
    "import sys\n",
    "\n",
    "# Llamar las librerías de Torch\n",
    "import torch\n",
    "from torch.nn import Parameter\n",
    "import torch.nn as nn\n",
    "import torch.nn.functional as F\n",
    "\n",
    "# Llamar la librería de PySyft\n",
    "import syft as sy\n",
    "# Esta método envuelve a Torch con métodos especiales para\n",
    "# el aprendizaje de máquina privado.\n",
    "hook = sy.TorchHook(torch)\n",
    "\n",
    "# creamos un tensor normal de torch\n",
    "torch.tensor([1,2,3,4,5])"
   ]
  },
  {
   "cell_type": "markdown",
   "metadata": {},
   "source": [
    "Si todo funciona correctamente significa que nuestras dependencias están bien instaladas. Ahora proseguimos así:"
   ]
  },
  {
   "cell_type": "code",
   "execution_count": null,
   "metadata": {},
   "outputs": [],
   "source": [
    "# Creamos cuatro \"trabajadores virtuales\" con quien compartiremos nuestros datos \n",
    "# de forma cifrada.\n",
    "juan = sy.VirtualWorker(hook, id=\"juan\")\n",
    "ana = sy.VirtualWorker(hook, id=\"ana\")\n",
    "jose = sy.VirtualWorker(hook, id=\"jose\")\n",
    "# El crypto provider es un nodo especial que provee\n",
    "# funcionalidades criptográficas, aunque en nuestro ejemplo\n",
    "# es igual a los demás trabajadores\n",
    "crypto_provider = sy.VirtualWorker(hook, id=\"crypto_provider\")"
   ]
  },
  {
   "cell_type": "code",
   "execution_count": null,
   "metadata": {},
   "outputs": [],
   "source": [
    "# Creamos un par de vectores que queremos multiplicar\n",
    "# con valores sencillos. Nosotros, como clientes conocemos\n",
    "# esos valores.\n",
    "x = torch.tensor([10])\n",
    "y = torch.tensor([3])"
   ]
  },
  {
   "cell_type": "code",
   "execution_count": null,
   "metadata": {},
   "outputs": [],
   "source": [
    "# Ahora ciframos y enviamos esos vectores sencillos\n",
    "# a los trabajadores virtuales. Ellos no deberían poder ver\n",
    "# los valores en texto claro. Por supuesto, en este ejemplo\n",
    "# todos los trabajadores están corriendo en la misma máquina y\n",
    "# espacio de memoria, más adelante veremos como funciona\n",
    "# el caso remoto.\n",
    "x = x.share(juan, ana, jose, crypto_provider=crypto_provider)\n",
    "y = y.share(juan, ana, jose, crypto_provider=crypto_provider)"
   ]
  },
  {
   "cell_type": "code",
   "execution_count": null,
   "metadata": {},
   "outputs": [],
   "source": [
    "# Posteriormente multiplicamos los dos vectores simple que creamos\n",
    "z = x * y\n",
    "# Finalmente retornamos y desciframos el resultado localmente.\n",
    "z.get()"
   ]
  },
  {
   "cell_type": "markdown",
   "metadata": {},
   "source": [
    "Al final deberíamos obtener un vector con un valor de 30, que para nosotros es visible, pero para los trabajadores virtuales estaba cifrado, es decir, ellos hicieran la operación por nosotros, pero no saben el valor de los vectores multiplicados.\n",
    "\n",
    "Este corto tutorial nos da una idea de la forma de funcionar de PySyft, cómo procesa información como vectores y matrices y nos prepara para ver casos más complejos cómo las redes neuronales, que mostraré en próximos tutoriales."
   ]
  },
  {
   "cell_type": "markdown",
   "metadata": {},
   "source": [
    "# Referencias\n",
    "* [1] https://kuronosec.blogspot.com/2020/07/private-machine-learning-aprendizaje-de.html\n",
    "* [2] https://github.com/OpenMined/PySyft/tree/master/examples/tutorials/translations/espa%C3%B1ol\n",
    "* [3] https://github.com/OpenMined/PySyft/blob/master/examples/tutorials/translations/espa%C3%B1ol/Parte%2009%20-%20Intro%20a%20los%20Programas%20Encriptados.ipynb\n",
    "* [4] https://pytorch.org/tutorials/"
   ]
  }
 ],
 "metadata": {
  "kernelspec": {
   "display_name": "pysyft",
   "language": "python",
   "name": "pysyft"
  },
  "language_info": {
   "codemirror_mode": {
    "name": "ipython",
    "version": 3
   },
   "file_extension": ".py",
   "mimetype": "text/x-python",
   "name": "python",
   "nbconvert_exporter": "python",
   "pygments_lexer": "ipython3",
   "version": "3.7.6"
  }
 },
 "nbformat": 4,
 "nbformat_minor": 4
}
